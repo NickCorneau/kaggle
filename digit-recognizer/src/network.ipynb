{
 "cells": [
  {
   "cell_type": "markdown",
   "metadata": {
    "nbpresent": {
     "id": "8091062a-d9ce-4f09-ae74-36822db59715"
    },
    "slideshow": {
     "slide_type": "slide"
    }
   },
   "source": [
    "# Recognizing Handwritten Digits using Neural Networks\n",
    "\n",
    "http://neuralnetworksanddeeplearning.com/chap1.html\n",
    "\n",
    "This is a program that will learn how to **_recognize handwritten digits_** using **_stochastic gradient descent_** and the **_MNIST training data_** found [here](https://github.com/mnielsen/neural-networks-and-deep-learning/archive/master.zip)."
   ]
  },
  {
   "cell_type": "markdown",
   "metadata": {
    "nbpresent": {
     "id": "3c968e0c-6953-4865-9590-b7b0862af7bc"
    },
    "slideshow": {
     "slide_type": "slide"
    }
   },
   "source": [
    "### The Neural Network\n",
    "\n",
    "The centerpiece is a 'Network' class, which we use to represent a neural network."
   ]
  },
  {
   "cell_type": "code",
   "execution_count": 1,
   "metadata": {
    "collapsed": false,
    "nbpresent": {
     "id": "e716f3ec-f0d7-4c77-b471-60b9b7ab49f5"
    },
    "slideshow": {
     "slide_type": "slide"
    }
   },
   "outputs": [],
   "source": [
    "import numpy as np\n",
    "\n",
    "class Network(object):\n",
    "    def __init__ (self, sizes):\n",
    "        self.num_layers = len(sizes)\n",
    "        self.sizes = sizes\n",
    "        self.biases = [np.random.randn(y, 1) for y in sizes[1:]]\n",
    "        self.weights = [np.random.randn(y, x)\n",
    "                        for x, y in zip(sizes[:-1], sizes[1:])]"
   ]
  },
  {
   "cell_type": "markdown",
   "metadata": {
    "nbpresent": {
     "id": "41454543-5dcb-4385-84f7-f884c25fd365"
    },
    "slideshow": {
     "slide_type": "slide"
    }
   },
   "source": [
    "**`sizes`** contains the number of neurons in the respective layers. \n",
    "\n",
    "**`biases`** and **`weights`** are randomly initialized. This gives our stochastic gradient descent algorithm a starting place.\n",
    "\n",
    "To a create **`Network`** object with 784 neurons in the first layer, 15 neurons in the second layer and 10 neurons in the output layer, we'd do this code: "
   ]
  },
  {
   "cell_type": "code",
   "execution_count": 2,
   "metadata": {
    "collapsed": true,
    "nbpresent": {
     "id": "4e1a9284-4534-4325-bf62-0bf7fa441d9a"
    },
    "slideshow": {
     "slide_type": "slide"
    }
   },
   "outputs": [],
   "source": [
    "net = Network([784, 15, 10])"
   ]
  },
  {
   "cell_type": "markdown",
   "metadata": {
    "nbpresent": {
     "id": "a4149b3a-9ebd-4309-ab09-901d144407db"
    },
    "slideshow": {
     "slide_type": "subslide"
    }
   },
   "source": [
    "![img](http://neuralnetworksanddeeplearning.com/images/tikz12.png)"
   ]
  },
  {
   "cell_type": "markdown",
   "metadata": {
    "collapsed": true,
    "nbpresent": {
     "id": "cb279c8d-e2bb-49e2-8643-99d11aeeacc4"
    },
    "slideshow": {
     "slide_type": "slide"
    }
   },
   "source": [
    "### Computing the output of our Network\n",
    "\n",
    "With this in mind, it's easy to write code to begin computing the output of the **`Network`** class. Let **`σ`** be the **`sigmoid function`**:\n",
    "\n",
    "$$σ(z)≡\\frac{1}{1+e^{-z}}\\tag{1}\\\\$$\n"
   ]
  },
  {
   "cell_type": "code",
   "execution_count": 3,
   "metadata": {
    "collapsed": true,
    "nbpresent": {
     "id": "f00d1c0f-0e81-49fc-b12c-f7fa8fdd705b"
    },
    "slideshow": {
     "slide_type": "slide"
    }
   },
   "outputs": [],
   "source": [
    "def sigmoid(z):\n",
    "    1.0/(1.0+np.exp(-z))"
   ]
  },
  {
   "cell_type": "code",
   "execution_count": 4,
   "metadata": {
    "collapsed": false,
    "nbpresent": {
     "id": "fadc1990-1e2c-4255-800f-904c0b30fc6a"
    },
    "slideshow": {
     "slide_type": "slide"
    }
   },
   "outputs": [
    {
     "data": {
      "text/plain": [
       "array([-0.14332553,  0.13670673, -0.37959852,  1.89239205,  0.54595703,\n",
       "       -0.74771358, -0.02673337, -0.88718262,  0.23106322,  1.56521029,\n",
       "       -0.76268893, -0.41393287, -0.68640133, -0.51660535,  1.4674063 ])"
      ]
     },
     "execution_count": 4,
     "metadata": {},
     "output_type": "execute_result"
    }
   ],
   "source": [
    "net.weights[1][1]"
   ]
  },
  {
   "cell_type": "markdown",
   "metadata": {
    "nbpresent": {
     "id": "430bb51a-93dd-4e3b-a737-9a9dafcb52ac"
    },
    "slideshow": {
     "slide_type": "subslide"
    }
   },
   "source": [
    "`net.weights[1]` denotes the weights connecting the second and third layer of the network. Let's call that matrix **`w`** for now. Let **`a`** be the vector of activations of the second layer of neurons and let **`b`** be the vector of biases. Let **`a′`** be the vector of activations of the third layer of neurons:\n",
    "\n",
    "$$a′ =σ(wa+b)\\tag{2}\\\\$$\n",
    "\n",
    "We then add a `feedforward` method to the `Network` class, which, given an input a for the network, returns the corresponding output. Essentially applying equation **(2)** for each layer."
   ]
  },
  {
   "cell_type": "code",
   "execution_count": 5,
   "metadata": {
    "collapsed": true,
    "nbpresent": {
     "id": "be81539c-0093-4527-925b-a49ce47c7800"
    },
    "scrolled": true,
    "slideshow": {
     "slide_type": "slide"
    }
   },
   "outputs": [],
   "source": [
    "class Network(Network):\n",
    "    def feedforward(self, a):\n",
    "        \"\"\"Return the output of the network if \"a\" is input.\"\"\"\n",
    "        for b, w in zip(self.biases, self.weights):\n",
    "            a = sigmoid(np.dot(w, a)+b)\n",
    "        return a"
   ]
  },
  {
   "cell_type": "markdown",
   "metadata": {
    "nbpresent": {
     "id": "0ab695ff-a7c1-407c-b8c4-c26058aa5f23"
    },
    "slideshow": {
     "slide_type": "slide"
    }
   },
   "source": [
    "We then want a way to apply the `Network`'s `feedforward` method. Let's do this using **[stochastic gradient descent](http://alexminnaar.com/deep-learning-basics-neural-networks-backpropagation-and-stochastic-gradient-descent.html) (SGD)**.\n",
    "\n",
    "The idea is to use gradient descent to find the weights w<sub>k</sub> and biases b<sub>l</sub> which minize the cost function such that the output from the network approximates y(x) for all training inputs x. In other words, our \"position\" now has components w<sub>k</sub> and b<sub>l</sub>, and the gradient vector ∇C has corresponding components ∂C/∂w<sub>k</sub> and ∂C/∂b<sub>l</sub>. Writing out the gradient descent update rule in terms of components, we have\n",
    "\n",
    "$$w_k \\rightarrow w_k' = w_k-\\frac{\\eta}{m}\n",
    "  \\sum_j \\frac{\\partial C_{X_j}}{\\partial w_k}\\\\$$\n",
    "\n",
    "$$ b_l  \\rightarrow  b_l' = b_l-\\frac{\\eta}{m}\n",
    "  \\sum_j \\frac{\\partial C_{X_j}}{\\partial b_l}\\\\$$\n",
    "  \n",
    "By repeatedly applying this update rule we can \"roll down the hill\", and hopefully find a minimum of the cost function. In other words, this is a rule which can be used to learn in a neural network."
   ]
  },
  {
   "cell_type": "code",
   "execution_count": 11,
   "metadata": {
    "collapsed": false,
    "nbpresent": {
     "id": "c78d29b7-2659-4f97-96d4-9d24169a7bbc"
    },
    "slideshow": {
     "slide_type": "slide"
    }
   },
   "outputs": [],
   "source": [
    "import random\n",
    "\n",
    "class Network(Network):\n",
    "    def SGD(self, training_data, epochs, mini_batch_size, eta,\n",
    "            test_data=None):\n",
    "        \"\"\"Train the neural network using mini-batch stochastic\n",
    "        gradient descent.  The \"training_data\" is a list of tuples\n",
    "        \"(x, y)\" representing the training inputs and the desired\n",
    "        outputs.  The other non-optional parameters are\n",
    "        self-explanatory.  If \"test_data\" is provided then the\n",
    "        network will be evaluated against the test data after each\n",
    "        epoch, and partial progress printed out.  This is useful for\n",
    "        tracking progress, but slows things down substantially.\"\"\"\n",
    "        if test_data: n_test = len(test_data)\n",
    "        n = len(training_data)\n",
    "        for j in xrange(epochs):\n",
    "            random.shuffle(training_data)\n",
    "            mini_batches = [\n",
    "                training_data[k:k+mini_batch_size]\n",
    "                for k in xrange(0, n, mini_batch_size)]\n",
    "            for mini_batch in mini_batches:\n",
    "                self.update_mini_batch(mini_batch, eta)\n",
    "            if test_data:\n",
    "                print(\"Epoch {0}: {1} / {2}\".format(\n",
    "                    j, self.evaluate(test_data), n_test))\n",
    "            else:\n",
    "                print(\"Epoch {0} complete\".format(j))"
   ]
  },
  {
   "cell_type": "markdown",
   "metadata": {},
   "source": [
    "The above code works as follows. In each epoch, it randomly shuffles the training data then partitions it into mini-batches. For each `mini_batch`, we apply a single step of gradient descent using `self.update_mini_batch(mini_batch, eta)` - which updates the network weights and biases according to a single iteration of gradient descent."
   ]
  },
  {
   "cell_type": "code",
   "execution_count": 7,
   "metadata": {
    "collapsed": true
   },
   "outputs": [],
   "source": [
    "class Network(Network):\n",
    "    def update_mini_batch(self, mini_batch, eta):\n",
    "        \"\"\"Update the network's weights and biases by applying\n",
    "        gradient descent using backpropagation to a single mini batch.\n",
    "        The \"mini_batch\" is a list of tuples \"(x, y)\", and \"eta\"\n",
    "        is the learning rate.\"\"\"\n",
    "        nabla_b = [np.zeros(b.shape) for b in self.biases]\n",
    "        nabla_w = [np.zeros(w.shape) for w in self.weights]\n",
    "        for x, y in mini_batch:\n",
    "            delta_nabla_b, delta_nabla_w = self.backprop(x, y) # Will be defined below\n",
    "            nabla_b = [nb+dnb for nb, dnb in zip(nabla_b, delta_nabla_b)]\n",
    "            nabla_w = [nw+dnw for nw, dnw in zip(nabla_w, delta_nabla_w)]\n",
    "        self.weights = [w - (eta/len(mini_batch)) * nw\n",
    "                       for w, nw in zip(self.weights, nabla_w)]\n",
    "        self.biases = [b - (eta/len(mini_batch)) * nb\n",
    "                       for b, nb in zip(self.biases, nabla_b)]"
   ]
  },
  {
   "cell_type": "markdown",
   "metadata": {},
   "source": [
    "Most of the work is done by the line: \n",
    "```python\n",
    "delta_nabla_b, delta_nabla_w = self.backprop(x,y)\n",
    "```\n",
    "Which invokes a *backpropagation* algorithm - a fast way of computing the gradient of the cost function. So `update_mini_batch` computes these gradients for every training example in `mini_batch` and then updates `self.weights` and `self.biases` appropriately."
   ]
  },
  {
   "cell_type": "code",
   "execution_count": 12,
   "metadata": {
    "collapsed": false
   },
   "outputs": [],
   "source": [
    "class Network(Network):\n",
    "    def backprop(self, x, y):\n",
    "        \"\"\"Return a tuple ``(nabla_b, nabla_w)`` representing the\n",
    "        gradient for the cost function C_x.  ``nabla_b`` and\n",
    "        ``nabla_w`` are layer-by-layer lists of numpy arrays, similar\n",
    "        to ``self.biases`` and ``self.weights``.\"\"\"\n",
    "        nabla_b = [np.zeros(b.shape) for b in self.biases]\n",
    "        nabla_w = [np.zeros(w.shape) for w in self.weights]\n",
    "        # feedforward\n",
    "        activation = x\n",
    "        activations = [x] # list to store all the activations, layer by layer\n",
    "        zs = [] # list to store all the z vectors, layer by layer\n",
    "        for b, w in zip(self.biases, self.weights):\n",
    "            z = (np.dot(w, activation))+b\n",
    "            zs.append(z)\n",
    "            activation = sigmoid(z)\n",
    "            activations.append(activation)\n",
    "        # backward pass\n",
    "        delta = self.cost_derivative(activations[-1], y) * \\\n",
    "            sigmoid_prime(zs[-1])\n",
    "        nabla_b[-1] = delta\n",
    "        nabla_w[-1] = np.dot(delta, activations[-2].transpose())\n",
    "        # Note that the variable l in the loop below is used a little\n",
    "        # differently to the notation in Chapter 2 of the book.  Here,\n",
    "        # l = 1 means the last layer of neurons, l = 2 is the\n",
    "        # second-last layer, and so on.  It's a renumbering of the\n",
    "        # scheme in the book, used here to take advantage of the fact\n",
    "        # that Python can use negative indices in lists.\n",
    "        for l in xrange(2, self.num_layers):\n",
    "            z = zs[-l]\n",
    "            sp = sigmoid_prime(z)\n",
    "            delta = np.dot(self.weights[-l+1].transpose(), delta) * sp\n",
    "            nabla_b[-l] = delta\n",
    "            nabla_w[-l] = np.dot(delta, activations[-l-1].transpose())\n",
    "        return (nabla_b, nabla_w)\n",
    "\n",
    "    def evaluate(self, test_data):\n",
    "        \"\"\"Return the number of test inputs for which the neural\n",
    "        network outputs the correct result. Note that the neural\n",
    "        network's output is assumed to be the index of whichever\n",
    "        neuron in the final layer has the highest activation.\"\"\"\n",
    "        test_results = [(np.argmax(self.feedforward(x)), y)\n",
    "                        for (x, y) in test_data]\n",
    "        return sum(int(x == y) for (x, y) in test_results)\n",
    "\n",
    "    def cost_derivative(self, output_activations, y):\n",
    "        \"\"\"Return the vector of partial derivatives \\partial C_x /\n",
    "        \\partial a for the output activations.\"\"\"\n",
    "        return (output_activations-y)\n",
    "\n",
    "    \n",
    "def sigmoid_prime(z):\n",
    "    \"\"\"Derivative of the sigmoid function.\"\"\"\n",
    "    return sigmoid(z)*(1-sigmoid(z))"
   ]
  },
  {
   "cell_type": "markdown",
   "metadata": {},
   "source": [
    "Using the helper file `mnist_loader`, we load MNIST's handwritten digits dataset."
   ]
  },
  {
   "cell_type": "code",
   "execution_count": 1,
   "metadata": {
    "collapsed": true
   },
   "outputs": [],
   "source": [
    "import mnist_loader\n",
    "training_data, validation_data, test_data = mnist_loader.load_data_wrapper()"
   ]
  },
  {
   "cell_type": "code",
   "execution_count": 3,
   "metadata": {
    "collapsed": false
   },
   "outputs": [
    {
     "ename": "NameError",
     "evalue": "name 'Network' is not defined",
     "output_type": "error",
     "traceback": [
      "\u001b[0;31m---------------------------------------------------------------------------\u001b[0m",
      "\u001b[0;31mNameError\u001b[0m                                 Traceback (most recent call last)",
      "\u001b[0;32m<ipython-input-3-c4f879ff49fb>\u001b[0m in \u001b[0;36m<module>\u001b[0;34m()\u001b[0m\n\u001b[0;32m----> 1\u001b[0;31m \u001b[0mnet\u001b[0m \u001b[0;34m=\u001b[0m \u001b[0mNetwork\u001b[0m\u001b[0;34m(\u001b[0m\u001b[0;34m[\u001b[0m\u001b[0;36m784\u001b[0m\u001b[0;34m,\u001b[0m \u001b[0;36m30\u001b[0m\u001b[0;34m,\u001b[0m \u001b[0;36m10\u001b[0m\u001b[0;34m]\u001b[0m\u001b[0;34m)\u001b[0m\u001b[0;34m\u001b[0m\u001b[0m\n\u001b[0m",
      "\u001b[0;31mNameError\u001b[0m: name 'Network' is not defined"
     ]
    }
   ],
   "source": [
    "net = Network([784, 30, 10])"
   ]
  },
  {
   "cell_type": "code",
   "execution_count": null,
   "metadata": {
    "collapsed": true
   },
   "outputs": [],
   "source": []
  }
 ],
 "metadata": {
  "anaconda-cloud": {},
  "kernelspec": {
   "display_name": "Python [conda env:digits]",
   "language": "python",
   "name": "conda-env-digits-py"
  },
  "language_info": {
   "codemirror_mode": {
    "name": "ipython",
    "version": 2
   },
   "file_extension": ".py",
   "mimetype": "text/x-python",
   "name": "python",
   "nbconvert_exporter": "python",
   "pygments_lexer": "ipython2",
   "version": "2.7.12"
  },
  "nbpresent": {
   "slides": {
    "140f4810-6604-433b-8cdb-7fe127c9d306": {
     "id": "140f4810-6604-433b-8cdb-7fe127c9d306",
     "prev": "bb33a78d-a27e-4754-a674-5e707e646d15",
     "regions": {
      "4362f810-ee8a-4e1a-be91-0e6113c83310": {
       "attrs": {
        "height": 0.8,
        "width": 0.8,
        "x": 0.1,
        "y": 0.1
       },
       "content": {
        "cell": "cb279c8d-e2bb-49e2-8643-99d11aeeacc4",
        "part": "whole"
       },
       "id": "4362f810-ee8a-4e1a-be91-0e6113c83310"
      }
     }
    },
    "16db890b-7fe2-4636-8bea-0c5faeac6d6c": {
     "id": "16db890b-7fe2-4636-8bea-0c5faeac6d6c",
     "prev": null,
     "regions": {
      "52f448e0-451f-48ad-9a46-3bed718051ac": {
       "attrs": {
        "height": 0.8,
        "width": 0.8,
        "x": 0.1,
        "y": 0.1
       },
       "content": {
        "cell": "8091062a-d9ce-4f09-ae74-36822db59715",
        "part": "whole"
       },
       "id": "52f448e0-451f-48ad-9a46-3bed718051ac"
      }
     }
    },
    "33adfc2f-1ebf-44c8-8c63-3e3df2e9c033": {
     "id": "33adfc2f-1ebf-44c8-8c63-3e3df2e9c033",
     "prev": "8534ca73-ce11-41e1-b7b4-56ec33410278",
     "regions": {
      "f93eed26-b926-4d39-8bb5-105ac3d37d4c": {
       "attrs": {
        "height": 0.8,
        "width": 0.8,
        "x": 0.1,
        "y": 0.1
       },
       "content": {
        "cell": "be81539c-0093-4527-925b-a49ce47c7800",
        "part": "whole"
       },
       "id": "f93eed26-b926-4d39-8bb5-105ac3d37d4c"
      }
     }
    },
    "4b4863f9-15a0-4838-82e2-6248afb154d3": {
     "id": "4b4863f9-15a0-4838-82e2-6248afb154d3",
     "prev": "33adfc2f-1ebf-44c8-8c63-3e3df2e9c033",
     "regions": {
      "29562f5d-9e25-4d59-952a-bf8a7dd9540d": {
       "attrs": {
        "height": 0.8,
        "width": 0.8,
        "x": 0.1,
        "y": 0.1
       },
       "content": {
        "cell": "0ab695ff-a7c1-407c-b8c4-c26058aa5f23",
        "part": "whole"
       },
       "id": "29562f5d-9e25-4d59-952a-bf8a7dd9540d"
      }
     }
    },
    "56433e95-0cfb-4434-b85e-c516d8b7efaa": {
     "id": "56433e95-0cfb-4434-b85e-c516d8b7efaa",
     "prev": "4b4863f9-15a0-4838-82e2-6248afb154d3",
     "regions": {
      "43da05b8-8ebc-47bb-88c9-2eafed419c11": {
       "attrs": {
        "height": 0.4,
        "width": 0.8,
        "x": 0.1,
        "y": 0.5
       },
       "content": {
        "cell": "d7f9ab04-bce2-464d-b56b-588d48c3dd15",
        "part": "whole"
       },
       "id": "43da05b8-8ebc-47bb-88c9-2eafed419c11"
      },
      "629251c2-1f21-4379-b496-791caecb526b": {
       "attrs": {
        "height": 0.4,
        "width": 0.8,
        "x": 0.1,
        "y": 0.5
       },
       "content": {
        "cell": "9f4c1856-f6c8-48fd-9fe9-e0382241cd9e",
        "part": "whole"
       },
       "id": "629251c2-1f21-4379-b496-791caecb526b"
      },
      "f0e1e3ab-37cf-4c55-a1dc-bcab3a05a79e": {
       "attrs": {
        "height": 0.8,
        "width": 0.8,
        "x": 0.1,
        "y": 0.1
       },
       "content": {
        "cell": "c78d29b7-2659-4f97-96d4-9d24169a7bbc",
        "part": "whole"
       },
       "id": "f0e1e3ab-37cf-4c55-a1dc-bcab3a05a79e"
      }
     }
    },
    "6d4ccb68-0641-476f-82ba-5bef14c1fed3": {
     "id": "6d4ccb68-0641-476f-82ba-5bef14c1fed3",
     "prev": "16db890b-7fe2-4636-8bea-0c5faeac6d6c",
     "regions": {
      "bb0f9bc0-2304-4fbd-a906-f961f44e074a": {
       "attrs": {
        "height": 0.8,
        "width": 0.8,
        "x": 0.1,
        "y": 0.1
       },
       "content": {
        "cell": "3c968e0c-6953-4865-9590-b7b0862af7bc",
        "part": "whole"
       },
       "id": "bb0f9bc0-2304-4fbd-a906-f961f44e074a"
      }
     }
    },
    "8534ca73-ce11-41e1-b7b4-56ec33410278": {
     "id": "8534ca73-ce11-41e1-b7b4-56ec33410278",
     "prev": "bd39d19a-a74c-4c5d-8c36-58590bcf6cd0",
     "regions": {
      "c86f1328-1f64-42fa-8f8b-d51a8f5f477c": {
       "attrs": {
        "height": 0.8,
        "width": 0.8,
        "x": 0.1,
        "y": 0.1
       },
       "content": {
        "cell": "430bb51a-93dd-4e3b-a737-9a9dafcb52ac",
        "part": "whole"
       },
       "id": "c86f1328-1f64-42fa-8f8b-d51a8f5f477c"
      }
     }
    },
    "9a09922a-853d-4484-877c-a3ecfcb904e3": {
     "id": "9a09922a-853d-4484-877c-a3ecfcb904e3",
     "prev": "b0e0a277-359b-4008-901b-a37c7c1af1d8",
     "regions": {
      "0dff74af-3199-4e94-be66-1374f8938c54": {
       "attrs": {
        "height": 0.8,
        "width": 0.8,
        "x": 0.1,
        "y": 0.1
       },
       "content": {
        "cell": "4e1a9284-4534-4325-bf62-0bf7fa441d9a",
        "part": "whole"
       },
       "id": "0dff74af-3199-4e94-be66-1374f8938c54"
      }
     }
    },
    "a4088fe1-9b0d-477c-ad99-ec00c52492e1": {
     "id": "a4088fe1-9b0d-477c-ad99-ec00c52492e1",
     "prev": "6d4ccb68-0641-476f-82ba-5bef14c1fed3",
     "regions": {
      "6ef2476c-e7f7-40eb-8b7d-eea3ce3c7cac": {
       "attrs": {
        "height": 0.8,
        "width": 0.8,
        "x": 0.1,
        "y": 0.1
       },
       "content": {
        "cell": "e716f3ec-f0d7-4c77-b471-60b9b7ab49f5",
        "part": "whole"
       },
       "id": "6ef2476c-e7f7-40eb-8b7d-eea3ce3c7cac"
      }
     }
    },
    "b0e0a277-359b-4008-901b-a37c7c1af1d8": {
     "id": "b0e0a277-359b-4008-901b-a37c7c1af1d8",
     "prev": "a4088fe1-9b0d-477c-ad99-ec00c52492e1",
     "regions": {
      "7ea8cbc8-e28f-4db2-b484-f4cd80797283": {
       "attrs": {
        "height": 0.8,
        "width": 0.8,
        "x": 0.1,
        "y": 0.1
       },
       "content": {
        "cell": "41454543-5dcb-4385-84f7-f884c25fd365",
        "part": "whole"
       },
       "id": "7ea8cbc8-e28f-4db2-b484-f4cd80797283"
      }
     }
    },
    "b1e7c17a-85cb-4f7f-ab4e-48b709acba24": {
     "id": "b1e7c17a-85cb-4f7f-ab4e-48b709acba24",
     "prev": "140f4810-6604-433b-8cdb-7fe127c9d306",
     "regions": {
      "844dec4d-c9c8-423b-bf91-cbdc61439bdd": {
       "attrs": {
        "height": 0.8,
        "width": 0.8,
        "x": 0.1,
        "y": 0.1
       },
       "content": {
        "cell": "f00d1c0f-0e81-49fc-b12c-f7fa8fdd705b",
        "part": "whole"
       },
       "id": "844dec4d-c9c8-423b-bf91-cbdc61439bdd"
      }
     }
    },
    "bb33a78d-a27e-4754-a674-5e707e646d15": {
     "id": "bb33a78d-a27e-4754-a674-5e707e646d15",
     "prev": "9a09922a-853d-4484-877c-a3ecfcb904e3",
     "regions": {
      "8b69f3bf-79a0-434d-a752-090a00d910ac": {
       "attrs": {
        "height": 0.8,
        "width": 0.8,
        "x": 0.1,
        "y": 0.1
       },
       "content": {
        "cell": "a4149b3a-9ebd-4309-ab09-901d144407db",
        "part": "whole"
       },
       "id": "8b69f3bf-79a0-434d-a752-090a00d910ac"
      }
     }
    },
    "bd39d19a-a74c-4c5d-8c36-58590bcf6cd0": {
     "id": "bd39d19a-a74c-4c5d-8c36-58590bcf6cd0",
     "prev": "b1e7c17a-85cb-4f7f-ab4e-48b709acba24",
     "regions": {
      "e2bcdff1-4629-4a52-9774-131eedb7c9dc": {
       "attrs": {
        "height": 0.8,
        "width": 0.8,
        "x": 0.1,
        "y": 0.1
       },
       "content": {
        "cell": "fadc1990-1e2c-4255-800f-904c0b30fc6a",
        "part": "whole"
       },
       "id": "e2bcdff1-4629-4a52-9774-131eedb7c9dc"
      }
     }
    }
   },
   "themes": {
    "default": "896b98fd-9fb2-49c6-9730-a76221b1735c",
    "theme": {
     "344e6b4e-8c8e-482a-9d0c-19f2b8753405": {
      "id": "344e6b4e-8c8e-482a-9d0c-19f2b8753405",
      "palette": {
       "19cc588f-0593-49c9-9f4b-e4d7cc113b1c": {
        "id": "19cc588f-0593-49c9-9f4b-e4d7cc113b1c",
        "rgb": [
         252,
         252,
         252
        ]
       },
       "31af15d2-7e15-44c5-ab5e-e04b16a89eff": {
        "id": "31af15d2-7e15-44c5-ab5e-e04b16a89eff",
        "rgb": [
         68,
         68,
         68
        ]
       },
       "50f92c45-a630-455b-aec3-788680ec7410": {
        "id": "50f92c45-a630-455b-aec3-788680ec7410",
        "rgb": [
         155,
         177,
         192
        ]
       },
       "c5cc3653-2ee1-402a-aba2-7caae1da4f6c": {
        "id": "c5cc3653-2ee1-402a-aba2-7caae1da4f6c",
        "rgb": [
         43,
         126,
         184
        ]
       },
       "efa7f048-9acb-414c-8b04-a26811511a21": {
        "id": "efa7f048-9acb-414c-8b04-a26811511a21",
        "rgb": [
         25.118061674008803,
         73.60176211453744,
         107.4819383259912
        ]
       }
      },
      "rules": {
       "blockquote": {
        "color": "50f92c45-a630-455b-aec3-788680ec7410"
       },
       "code": {
        "font-family": "Anonymous Pro"
       },
       "h1": {
        "color": "c5cc3653-2ee1-402a-aba2-7caae1da4f6c",
        "font-family": "Lato",
        "font-size": 8
       },
       "h2": {
        "color": "c5cc3653-2ee1-402a-aba2-7caae1da4f6c",
        "font-family": "Lato",
        "font-size": 6
       },
       "h3": {
        "color": "50f92c45-a630-455b-aec3-788680ec7410",
        "font-family": "Lato",
        "font-size": 5.5
       },
       "h4": {
        "color": "c5cc3653-2ee1-402a-aba2-7caae1da4f6c",
        "font-family": "Lato",
        "font-size": 5
       },
       "h5": {
        "font-family": "Lato"
       },
       "h6": {
        "font-family": "Lato"
       },
       "h7": {
        "font-family": "Lato"
       },
       "pre": {
        "font-family": "Anonymous Pro",
        "font-size": 4
       }
      },
      "text-base": {
       "font-family": "Merriweather",
       "font-size": 4
      }
     },
     "896b98fd-9fb2-49c6-9730-a76221b1735c": {
      "backgrounds": {
       "dc7afa04-bf90-40b1-82a5-726e3cff5267": {
        "background-color": "31af15d2-7e15-44c5-ab5e-e04b16a89eff",
        "id": "dc7afa04-bf90-40b1-82a5-726e3cff5267"
       }
      },
      "id": "896b98fd-9fb2-49c6-9730-a76221b1735c",
      "palette": {
       "19cc588f-0593-49c9-9f4b-e4d7cc113b1c": {
        "id": "19cc588f-0593-49c9-9f4b-e4d7cc113b1c",
        "rgb": [
         252,
         252,
         252
        ]
       },
       "31af15d2-7e15-44c5-ab5e-e04b16a89eff": {
        "id": "31af15d2-7e15-44c5-ab5e-e04b16a89eff",
        "rgb": [
         68,
         68,
         68
        ]
       },
       "50f92c45-a630-455b-aec3-788680ec7410": {
        "id": "50f92c45-a630-455b-aec3-788680ec7410",
        "rgb": [
         197,
         226,
         245
        ]
       },
       "c5cc3653-2ee1-402a-aba2-7caae1da4f6c": {
        "id": "c5cc3653-2ee1-402a-aba2-7caae1da4f6c",
        "rgb": [
         43,
         126,
         184
        ]
       },
       "efa7f048-9acb-414c-8b04-a26811511a21": {
        "id": "efa7f048-9acb-414c-8b04-a26811511a21",
        "rgb": [
         25.118061674008803,
         73.60176211453744,
         107.4819383259912
        ]
       }
      },
      "rules": {
       "a": {
        "color": "19cc588f-0593-49c9-9f4b-e4d7cc113b1c"
       },
       "blockquote": {
        "color": "50f92c45-a630-455b-aec3-788680ec7410",
        "font-size": 3
       },
       "code": {
        "font-family": "Anonymous Pro"
       },
       "h1": {
        "color": "19cc588f-0593-49c9-9f4b-e4d7cc113b1c",
        "font-family": "Merriweather",
        "font-size": 8
       },
       "h2": {
        "color": "19cc588f-0593-49c9-9f4b-e4d7cc113b1c",
        "font-family": "Merriweather",
        "font-size": 6
       },
       "h3": {
        "color": "50f92c45-a630-455b-aec3-788680ec7410",
        "font-family": "Lato",
        "font-size": 5.5
       },
       "h4": {
        "color": "c5cc3653-2ee1-402a-aba2-7caae1da4f6c",
        "font-family": "Lato",
        "font-size": 5
       },
       "h5": {
        "font-family": "Lato"
       },
       "h6": {
        "font-family": "Lato"
       },
       "h7": {
        "font-family": "Lato"
       },
       "li": {
        "color": "50f92c45-a630-455b-aec3-788680ec7410",
        "font-size": 3.25
       },
       "pre": {
        "font-family": "Anonymous Pro",
        "font-size": 4
       }
      },
      "text-base": {
       "color": "19cc588f-0593-49c9-9f4b-e4d7cc113b1c",
       "font-family": "Lato",
       "font-size": 4
      }
     },
     "a6f2b3eb-c045-4f42-9d6e-91d48fb187af": {
      "id": "a6f2b3eb-c045-4f42-9d6e-91d48fb187af",
      "palette": {
       "19cc588f-0593-49c9-9f4b-e4d7cc113b1c": {
        "id": "19cc588f-0593-49c9-9f4b-e4d7cc113b1c",
        "rgb": [
         252,
         252,
         252
        ]
       },
       "31af15d2-7e15-44c5-ab5e-e04b16a89eff": {
        "id": "31af15d2-7e15-44c5-ab5e-e04b16a89eff",
        "rgb": [
         68,
         68,
         68
        ]
       },
       "50f92c45-a630-455b-aec3-788680ec7410": {
        "id": "50f92c45-a630-455b-aec3-788680ec7410",
        "rgb": [
         155,
         177,
         192
        ]
       },
       "c5cc3653-2ee1-402a-aba2-7caae1da4f6c": {
        "id": "c5cc3653-2ee1-402a-aba2-7caae1da4f6c",
        "rgb": [
         43,
         126,
         184
        ]
       },
       "efa7f048-9acb-414c-8b04-a26811511a21": {
        "id": "efa7f048-9acb-414c-8b04-a26811511a21",
        "rgb": [
         25.118061674008803,
         73.60176211453744,
         107.4819383259912
        ]
       }
      },
      "rules": {
       "blockquote": {
        "color": "50f92c45-a630-455b-aec3-788680ec7410"
       },
       "code": {
        "font-family": "Anonymous Pro"
       },
       "h1": {
        "color": "c5cc3653-2ee1-402a-aba2-7caae1da4f6c",
        "font-family": "Lato",
        "font-size": 8
       },
       "h2": {
        "color": "c5cc3653-2ee1-402a-aba2-7caae1da4f6c",
        "font-family": "Lato",
        "font-size": 6
       },
       "h3": {
        "color": "50f92c45-a630-455b-aec3-788680ec7410",
        "font-family": "Lato",
        "font-size": 5.5
       },
       "h4": {
        "color": "c5cc3653-2ee1-402a-aba2-7caae1da4f6c",
        "font-family": "Lato",
        "font-size": 5
       },
       "h5": {
        "font-family": "Lato"
       },
       "h6": {
        "font-family": "Lato"
       },
       "h7": {
        "font-family": "Lato"
       },
       "pre": {
        "font-family": "Anonymous Pro",
        "font-size": 4
       }
      },
      "text-base": {
       "font-family": "Merriweather",
       "font-size": 4
      }
     }
    }
   }
  }
 },
 "nbformat": 4,
 "nbformat_minor": 2
}
