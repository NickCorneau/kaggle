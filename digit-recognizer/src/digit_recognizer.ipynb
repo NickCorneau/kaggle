{
 "cells": [
  {
   "cell_type": "code",
   "execution_count": 2,
   "metadata": {
    "collapsed": true
   },
   "outputs": [],
   "source": [
    "import network\n",
    "import mnist_loader"
   ]
  },
  {
   "cell_type": "code",
   "execution_count": 3,
   "metadata": {
    "collapsed": true
   },
   "outputs": [],
   "source": [
    "training_data, validation_data, test_data = mnist_loader.load_data_wrapper()"
   ]
  },
  {
   "cell_type": "code",
   "execution_count": 13,
   "metadata": {
    "collapsed": false
   },
   "outputs": [],
   "source": [
    "net = network.Network([784, 30, 10])"
   ]
  },
  {
   "cell_type": "code",
   "execution_count": 14,
   "metadata": {
    "collapsed": false
   },
   "outputs": [
    {
     "name": "stdout",
     "output_type": "stream",
     "text": [
      "Epoch 0: 9068 / 10000\n",
      "Epoch 1: 9274 / 10000\n",
      "Epoch 2: 9238 / 10000\n",
      "Epoch 3: 9288 / 10000\n",
      "Epoch 4: 9390 / 10000\n",
      "Epoch 5: 9410 / 10000\n",
      "Epoch 6: 9408 / 10000\n",
      "Epoch 7: 9422 / 10000\n",
      "Epoch 8: 9460 / 10000\n",
      "Epoch 9: 9411 / 10000\n",
      "Epoch 10: 9465 / 10000\n",
      "Epoch 11: 9459 / 10000\n",
      "Epoch 12: 9474 / 10000\n",
      "Epoch 13: 9455 / 10000\n",
      "Epoch 14: 9478 / 10000\n",
      "Epoch 15: 9450 / 10000\n",
      "Epoch 16: 9487 / 10000\n",
      "Epoch 17: 9488 / 10000\n",
      "Epoch 18: 9484 / 10000\n",
      "Epoch 19: 9484 / 10000\n",
      "Epoch 20: 9462 / 10000\n",
      "Epoch 21: 9474 / 10000\n",
      "Epoch 22: 9476 / 10000\n",
      "Epoch 23: 9493 / 10000\n",
      "Epoch 24: 9474 / 10000\n",
      "Epoch 25: 9494 / 10000\n",
      "Epoch 26: 9481 / 10000\n",
      "Epoch 27: 9478 / 10000\n",
      "Epoch 28: 9489 / 10000\n",
      "Epoch 29: 9491 / 10000\n"
     ]
    }
   ],
   "source": [
    "net.SGD(training_data, 30, 10, 3.0, test_data=test_data)"
   ]
  },
  {
   "cell_type": "code",
   "execution_count": null,
   "metadata": {
    "collapsed": true
   },
   "outputs": [],
   "source": []
  }
 ],
 "metadata": {
  "anaconda-cloud": {},
  "kernelspec": {
   "display_name": "Python [conda env:digits]",
   "language": "python",
   "name": "conda-env-digits-py"
  },
  "language_info": {
   "codemirror_mode": {
    "name": "ipython",
    "version": 2
   },
   "file_extension": ".py",
   "mimetype": "text/x-python",
   "name": "python",
   "nbconvert_exporter": "python",
   "pygments_lexer": "ipython2",
   "version": "2.7.12"
  }
 },
 "nbformat": 4,
 "nbformat_minor": 1
}
