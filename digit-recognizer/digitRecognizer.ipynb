{
 "cells": [
  {
   "cell_type": "markdown",
   "metadata": {},
   "source": [
    "## Recognizing Handwritten Digits using Neural Networks\n",
    "\n",
    "http://neuralnetworksanddeeplearning.com/chap1.html\n",
    "\n",
    "This is a program that will learn how to **_recognize handwritten digits_** using **_stochastic gradient descent_** and the **_MNIST training data_** found [here](https://github.com/mnielsen/neural-networks-and-deep-learning/archive/master.zip)."
   ]
  },
  {
   "cell_type": "markdown",
   "metadata": {},
   "source": [
    "The centerpiece is a 'Network' class, which we use to represent a neural network."
   ]
  },
  {
   "cell_type": "code",
   "execution_count": 4,
   "metadata": {
    "collapsed": false
   },
   "outputs": [],
   "source": [
    "import numpy as np\n",
    "\n",
    "class Network(object):\n",
    "\n",
    "    def __init__ (self, sizes):\n",
    "        self.num_layers = len(sizes)\n",
    "        self.sizes = sizes\n",
    "        self.biases = [np.random.randn(y, 1) for y in sizes[1:]]\n",
    "        self.weights = [np.random.randn(y, x)\n",
    "                        for x, y in zip(sizes[:-1], sizes[1:])]"
   ]
  },
  {
   "cell_type": "markdown",
   "metadata": {},
   "source": [
    "`sizes` contains the number of neurons in the respective layers. \n",
    "\n",
    "`biases` and `weights` are randomly initialized. This gives our stochastic gradient descent algorithm a starting place.\n",
    "\n",
    "To a create `Network` object with 784 neurons in the first layer, 15 neurons in the second layer and 10 neurons in the output layer, we'd do this code: \n",
    "\n",
    "```python\n",
    "net = Network([784, 15, 10])\n",
    "```\n",
    "\n",
    "![img](http://neuralnetworksanddeeplearning.com/images/tikz12.png)"
   ]
  },
  {
   "cell_type": "code",
   "execution_count": 6,
   "metadata": {
    "collapsed": false
   },
   "outputs": [
    {
     "data": {
      "text/plain": [
       "array([[-0.82281814,  1.52836861,  0.94156048, -0.28033777,  0.38798237,\n",
       "         0.83665253,  1.26763296,  0.98026248, -0.50949449, -1.51695839,\n",
       "        -1.55759726, -0.38508869, -2.25738492,  0.40371719, -0.38264327],\n",
       "       [ 1.14773423,  0.25210105,  1.71518482, -1.1253298 ,  2.2274912 ,\n",
       "        -0.22117129, -1.77679329,  2.18901413,  0.80272182,  1.14577318,\n",
       "        -0.42073855, -1.83036146,  1.94489676, -0.05423268,  0.42703651],\n",
       "       [ 0.52980833, -0.99557008, -0.23866374, -1.88334886, -1.13954617,\n",
       "         0.49423257,  0.96412696, -1.50845543,  0.86570834,  3.16263437,\n",
       "         0.18393833,  1.55362498, -0.7562823 ,  1.3863889 , -1.20973783],\n",
       "       [ 0.41456374, -1.31346842, -0.8026066 , -0.29868423, -0.27346462,\n",
       "         0.34281632,  1.7549206 ,  0.40135574, -1.01673861, -1.08487132,\n",
       "         0.56440563, -0.56240187,  0.37493249, -0.7683077 ,  0.43073653],\n",
       "       [-0.40478884, -0.71953032, -1.2562044 ,  0.19765574, -1.49428344,\n",
       "        -1.94221995,  1.44436938, -0.91415537,  0.31500488,  0.71084356,\n",
       "         0.75115628, -2.04494293, -0.08773065,  2.12160311, -0.58163753],\n",
       "       [-0.81905508, -2.2202883 ,  1.3621512 , -0.77076633,  0.18243209,\n",
       "         1.11377897,  0.43004027, -0.10367289, -0.94488226,  0.11037087,\n",
       "         0.39810635,  0.16972714,  0.12564247,  0.1113478 ,  0.05650415],\n",
       "       [ 0.9905678 ,  0.01665687,  0.43095197, -1.22365919, -0.86001215,\n",
       "         0.34223422, -0.48035582,  1.2615394 ,  0.07799094, -0.33396391,\n",
       "        -2.4755113 ,  0.13109205, -2.01882625, -1.0316371 ,  2.95048282],\n",
       "       [-2.15076275, -0.49498775, -0.84341813,  1.46660363,  0.88295016,\n",
       "        -1.60463193,  0.49974911,  0.06156626,  0.41407466, -1.10225624,\n",
       "         0.0093407 , -0.64151536, -2.76021144,  0.76044177, -0.27285367],\n",
       "       [-1.43015169, -1.07900067, -1.18267789, -0.83505309, -0.0763676 ,\n",
       "         0.29720936, -0.26570322,  0.91135457, -0.72268264,  0.37581906,\n",
       "         0.05895261,  0.41066622,  0.95119091, -0.08973141, -1.65338058],\n",
       "       [-1.44880427,  0.83210899, -0.79885468, -0.66573441,  2.17478251,\n",
       "         1.17042473, -0.94534423, -2.19968847, -0.59596053,  0.7465348 ,\n",
       "        -0.44112221,  1.25058911, -0.39922996,  0.11590323, -2.24306717]])"
      ]
     },
     "execution_count": 6,
     "metadata": {},
     "output_type": "execute_result"
    }
   ],
   "source": [
    "net = Network([784, 15, 10])\n",
    "net.weights[1]"
   ]
  },
  {
   "cell_type": "code",
   "execution_count": null,
   "metadata": {
    "collapsed": true
   },
   "outputs": [],
   "source": []
  }
 ],
 "metadata": {
  "anaconda-cloud": {},
  "kernelspec": {
   "display_name": "Python [conda env:digits]",
   "language": "python",
   "name": "conda-env-digits-py"
  },
  "language_info": {
   "codemirror_mode": {
    "name": "ipython",
    "version": 3
   },
   "file_extension": ".py",
   "mimetype": "text/x-python",
   "name": "python",
   "nbconvert_exporter": "python",
   "pygments_lexer": "ipython3",
   "version": "3.4.5"
  }
 },
 "nbformat": 4,
 "nbformat_minor": 2
}
